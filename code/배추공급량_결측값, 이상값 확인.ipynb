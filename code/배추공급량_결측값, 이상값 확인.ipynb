{
 "cells": [
  {
   "cell_type": "code",
   "execution_count": 10,
   "id": "8da3b76c-39fe-4cf9-a71d-38d03c13cae6",
   "metadata": {},
   "outputs": [
    {
     "data": {
      "text/html": [
       "<div>\n",
       "<style scoped>\n",
       "    .dataframe tbody tr th:only-of-type {\n",
       "        vertical-align: middle;\n",
       "    }\n",
       "\n",
       "    .dataframe tbody tr th {\n",
       "        vertical-align: top;\n",
       "    }\n",
       "\n",
       "    .dataframe thead th {\n",
       "        text-align: right;\n",
       "    }\n",
       "</style>\n",
       "<table border=\"1\" class=\"dataframe\">\n",
       "  <thead>\n",
       "    <tr style=\"text-align: right;\">\n",
       "      <th></th>\n",
       "      <th>날짜</th>\n",
       "      <th>도매지역</th>\n",
       "      <th>총거래물량</th>\n",
       "      <th>품종</th>\n",
       "      <th>산지</th>\n",
       "    </tr>\n",
       "  </thead>\n",
       "  <tbody>\n",
       "    <tr>\n",
       "      <th>0</th>\n",
       "      <td>2024-11-18</td>\n",
       "      <td>서울</td>\n",
       "      <td>4875700.00</td>\n",
       "      <td>김장(가을)배추</td>\n",
       "      <td>전남</td>\n",
       "    </tr>\n",
       "    <tr>\n",
       "      <th>1</th>\n",
       "      <td>2024-11-18</td>\n",
       "      <td>서울</td>\n",
       "      <td>3197600.00</td>\n",
       "      <td>김장(가을)배추</td>\n",
       "      <td>강원</td>\n",
       "    </tr>\n",
       "    <tr>\n",
       "      <th>2</th>\n",
       "      <td>2024-11-18</td>\n",
       "      <td>서울</td>\n",
       "      <td>891936.00</td>\n",
       "      <td>기타배추</td>\n",
       "      <td>전남</td>\n",
       "    </tr>\n",
       "    <tr>\n",
       "      <th>3</th>\n",
       "      <td>2024-11-18</td>\n",
       "      <td>서울</td>\n",
       "      <td>689000.00</td>\n",
       "      <td>김장(가을)배추</td>\n",
       "      <td>전북</td>\n",
       "    </tr>\n",
       "    <tr>\n",
       "      <th>4</th>\n",
       "      <td>2024-11-18</td>\n",
       "      <td>서울</td>\n",
       "      <td>682100.00</td>\n",
       "      <td>김장(가을)배추</td>\n",
       "      <td>경북</td>\n",
       "    </tr>\n",
       "    <tr>\n",
       "      <th>...</th>\n",
       "      <td>...</td>\n",
       "      <td>...</td>\n",
       "      <td>...</td>\n",
       "      <td>...</td>\n",
       "      <td>...</td>\n",
       "    </tr>\n",
       "    <tr>\n",
       "      <th>534678</th>\n",
       "      <td>2020-01-02</td>\n",
       "      <td>정읍</td>\n",
       "      <td>4.00</td>\n",
       "      <td>기타배추</td>\n",
       "      <td>광주</td>\n",
       "    </tr>\n",
       "    <tr>\n",
       "      <th>534679</th>\n",
       "      <td>2020-01-02</td>\n",
       "      <td>춘천</td>\n",
       "      <td>0.45</td>\n",
       "      <td>기타배추</td>\n",
       "      <td>서울</td>\n",
       "    </tr>\n",
       "    <tr>\n",
       "      <th>534680</th>\n",
       "      <td>2020-01-02</td>\n",
       "      <td>춘천</td>\n",
       "      <td>0.20</td>\n",
       "      <td>기타배추</td>\n",
       "      <td>서울</td>\n",
       "    </tr>\n",
       "    <tr>\n",
       "      <th>534681</th>\n",
       "      <td>2020-01-02</td>\n",
       "      <td>춘천</td>\n",
       "      <td>0.10</td>\n",
       "      <td>기타배추</td>\n",
       "      <td>서울</td>\n",
       "    </tr>\n",
       "    <tr>\n",
       "      <th>534682</th>\n",
       "      <td>2020-01-02</td>\n",
       "      <td>춘천</td>\n",
       "      <td>0.25</td>\n",
       "      <td>기타배추</td>\n",
       "      <td>서울</td>\n",
       "    </tr>\n",
       "  </tbody>\n",
       "</table>\n",
       "<p>534683 rows × 5 columns</p>\n",
       "</div>"
      ],
      "text/plain": [
       "                날짜 도매지역       총거래물량        품종  산지\n",
       "0       2024-11-18   서울  4875700.00  김장(가을)배추  전남\n",
       "1       2024-11-18   서울  3197600.00  김장(가을)배추  강원\n",
       "2       2024-11-18   서울   891936.00      기타배추  전남\n",
       "3       2024-11-18   서울   689000.00  김장(가을)배추  전북\n",
       "4       2024-11-18   서울   682100.00  김장(가을)배추  경북\n",
       "...            ...  ...         ...       ...  ..\n",
       "534678  2020-01-02   정읍        4.00      기타배추  광주\n",
       "534679  2020-01-02   춘천        0.45      기타배추  서울\n",
       "534680  2020-01-02   춘천        0.20      기타배추  서울\n",
       "534681  2020-01-02   춘천        0.10      기타배추  서울\n",
       "534682  2020-01-02   춘천        0.25      기타배추  서울\n",
       "\n",
       "[534683 rows x 5 columns]"
      ]
     },
     "execution_count": 10,
     "metadata": {},
     "output_type": "execute_result"
    }
   ],
   "source": [
    "import pandas as pd\n",
    "import numpy as np\n",
    "import matplotlib.pyplot as plt\n",
    "import seaborn as sns\n",
    "data = pd.read_csv(\"C:/Users/anhj2/Desktop/capstone/배추공급량/배추공급량전처리1.csv\")\n",
    "data"
   ]
  },
  {
   "cell_type": "markdown",
   "id": "05015299",
   "metadata": {},
   "source": [
    "## 항목별 결측치 확인"
   ]
  },
  {
   "cell_type": "code",
   "execution_count": 11,
   "id": "6bb4ff41",
   "metadata": {},
   "outputs": [
    {
     "name": "stdout",
     "output_type": "stream",
     "text": [
      "<class 'pandas.core.frame.DataFrame'>\n",
      "RangeIndex: 534683 entries, 0 to 534682\n",
      "Data columns (total 5 columns):\n",
      " #   Column  Non-Null Count   Dtype  \n",
      "---  ------  --------------   -----  \n",
      " 0   날짜      534683 non-null  object \n",
      " 1   도매지역    534683 non-null  object \n",
      " 2   총거래물량   534520 non-null  float64\n",
      " 3   품종      534683 non-null  object \n",
      " 4   산지      534683 non-null  object \n",
      "dtypes: float64(1), object(4)\n",
      "memory usage: 20.4+ MB\n"
     ]
    }
   ],
   "source": [
    "data.info()"
   ]
  },
  {
   "cell_type": "markdown",
   "id": "db1c53a6-8ac3-48f7-8160-0b479c918f90",
   "metadata": {},
   "source": [
    "## 전 지역 총거래물량의 이상값 확인"
   ]
  },
  {
   "cell_type": "code",
   "execution_count": 12,
   "id": "8517716d-b70f-4e68-8a4b-e97e5aee6182",
   "metadata": {},
   "outputs": [
    {
     "name": "stderr",
     "output_type": "stream",
     "text": [
      "c:\\Users\\anhj2\\anaconda3\\envs\\demand_forecast\\lib\\site-packages\\IPython\\core\\pylabtools.py:152: UserWarning: Glyph 8722 (\\N{MINUS SIGN}) missing from current font.\n",
      "  fig.canvas.print_figure(bytes_io, **kw)\n"
     ]
    },
    {
     "data": {
      "image/png": "[encoded data removed]",
      "text/plain": [
       "<Figure size 1000x600 with 1 Axes>"
      ]
     },
     "metadata": {},
     "output_type": "display_data"
    }
   ],
   "source": [
    "# 한글 폰트 설정 (Windows 환경에서 '맑은 고딕' 사용)\n",
    "plt.rcParams['font.family'] = 'Malgun Gothic'\n",
    "# Boxplot 그리기\n",
    "plt.figure(figsize=(10, 6))\n",
    "sns.boxplot(x=data[\"총거래물량\"])\n",
    "plt.title(\"총거래물량 Boxplot\", fontsize=16)\n",
    "plt.xlabel(\"총거래물량\", fontsize=12)\n",
    "plt.show()"
   ]
  },
  {
   "cell_type": "markdown",
   "id": "27c939c3-0c8f-4065-9fa2-1ea126eb4d99",
   "metadata": {},
   "source": [
    "## 5개 지역 이상값 확인"
   ]
  },
  {
   "cell_type": "code",
   "execution_count": 13,
   "id": "373be183-ee13-4e13-87fc-1deff911dc4a",
   "metadata": {},
   "outputs": [
    {
     "name": "stderr",
     "output_type": "stream",
     "text": [
      "c:\\Users\\anhj2\\anaconda3\\envs\\demand_forecast\\lib\\site-packages\\IPython\\core\\pylabtools.py:152: UserWarning: Glyph 8722 (\\N{MINUS SIGN}) missing from current font.\n",
      "  fig.canvas.print_figure(bytes_io, **kw)\n"
     ]
    },
    {
     "data": {
      "image/png": "[encoded data removed]",
      "text/plain": [
       "<Figure size 1200x600 with 1 Axes>"
      ]
     },
     "metadata": {},
     "output_type": "display_data"
    }
   ],
   "source": [
    "# 도매지역 필터링\n",
    "target_regions = [\"서울\", \"부산\", \"대구\", \"광주\", \"대전\"]\n",
    "filtered_data = data[data[\"도매지역\"].isin(target_regions)]\n",
    "\n",
    "# Boxplot 그리기\n",
    "plt.figure(figsize=(12, 6))\n",
    "sns.boxplot(x=\"도매지역\", y=\"총거래물량\", data=filtered_data)\n",
    "plt.title(\"도매지역별 총거래물량 Boxplot\", fontsize=16)\n",
    "plt.xlabel(\"도매지역\", fontsize=12)\n",
    "plt.ylabel(\"총거래물량\", fontsize=12)\n",
    "plt.show()"
   ]
  },
  {
   "cell_type": "markdown",
   "id": "acf3e044-868b-4604-87fa-97ae36d61815",
   "metadata": {},
   "source": [
    "## 지역별 총거래물량이 음수인 행"
   ]
  },
  {
   "cell_type": "code",
   "execution_count": 14,
   "id": "2d663dee-f6c7-4a67-ac5c-e106926b0dfa",
   "metadata": {},
   "outputs": [
    {
     "name": "stdout",
     "output_type": "stream",
     "text": [
      "                날짜 도매지역     총거래물량    품종  산지\n",
      "258390  2022-08-22   대구    -448.0   쌈배추  강원\n",
      "265886  2022-07-26   대구   -3840.0   쌈배추  강원\n",
      "431388  2020-11-30   대구 -221600.0  절임배추  경북\n"
     ]
    }
   ],
   "source": [
    "# 대구\n",
    "negative_values = data[(data[\"도매지역\"] == \"대구\") & (data[\"총거래물량\"] < 0)]\n",
    "print(negative_values)"
   ]
  },
  {
   "cell_type": "code",
   "execution_count": 15,
   "id": "e1198976-8775-4a7a-8975-ef0e23d48be8",
   "metadata": {},
   "outputs": [
    {
     "name": "stdout",
     "output_type": "stream",
     "text": [
      "                날짜 도매지역  총거래물량    품종  산지\n",
      "478463  2020-07-29   부산  -1.47  여름배추  부산\n"
     ]
    }
   ],
   "source": [
    "# 부산\n",
    "negative_values = data[(data[\"도매지역\"] == \"부산\") & (data[\"총거래물량\"] < 0)]\n",
    "print(negative_values)"
   ]
  },
  {
   "cell_type": "code",
   "execution_count": 16,
   "id": "c50d2d7f-48cf-4502-a3e6-ff865f1c4a4e",
   "metadata": {},
   "outputs": [
    {
     "name": "stdout",
     "output_type": "stream",
     "text": [
      "                날짜 도매지역     총거래물량      품종  산지\n",
      "14654   2024-10-18   서울    -240.0     쌈배추  강원\n",
      "14655   2024-10-18   서울    -480.0     쌈배추  강원\n",
      "20174   2024-10-03   서울     -64.0     쌈배추  서울\n",
      "28790   2024-09-05   서울 -238800.0   고냉지배추  강원\n",
      "37838   2024-08-05   서울   -8000.0  배추(수입)  인천\n",
      "...            ...  ...       ...     ...  ..\n",
      "521978  2020-02-15   서울   -1152.0    기타배추  전남\n",
      "531161  2020-01-14   서울  -10000.0    월동배추  강원\n",
      "533059  2020-01-08   서울   -8000.0    월동배추  경북\n",
      "534211  2020-01-04   서울   -5000.0    월동배추  서울\n",
      "534212  2020-01-04   서울   -5000.0    월동배추  강원\n",
      "\n",
      "[99 rows x 5 columns]\n"
     ]
    }
   ],
   "source": [
    "# 서울\n",
    "negative_values = data[(data[\"도매지역\"] == \"서울\") & (data[\"총거래물량\"] < 0)]\n",
    "print(negative_values)"
   ]
  },
  {
   "cell_type": "code",
   "execution_count": 17,
   "id": "e73f381f-433e-406a-b392-532326081610",
   "metadata": {},
   "outputs": [
    {
     "name": "stdout",
     "output_type": "stream",
     "text": [
      "                날짜 도매지역     총거래물량    품종  산지\n",
      "87450   2024-01-24   대전 -100200.0  월동배추  전북\n",
      "332734  2021-11-15   대전   -2400.0  절임배추  충북\n"
     ]
    }
   ],
   "source": [
    "# 대전\n",
    "negative_values = data[(data[\"도매지역\"] == \"대전\") & (data[\"총거래물량\"] < 0)]\n",
    "print(negative_values)"
   ]
  },
  {
   "cell_type": "code",
   "execution_count": 18,
   "id": "11553f78-5b81-4c9b-97fc-55397e17414f",
   "metadata": {},
   "outputs": [
    {
     "name": "stdout",
     "output_type": "stream",
     "text": [
      "Empty DataFrame\n",
      "Columns: [날짜, 도매지역, 총거래물량, 품종, 산지]\n",
      "Index: []\n"
     ]
    }
   ],
   "source": [
    "# 광주\n",
    "negative_values = data[(data[\"도매지역\"] == \"광주\") & (data[\"총거래물량\"] < 0)]\n",
    "print(negative_values)"
   ]
  },
  {
   "cell_type": "markdown",
   "id": "ca99c488-4147-4bd1-b07f-5c0e65193583",
   "metadata": {},
   "source": [
    "## 이상값 원인 파악(총거래물량이 음수가 나온 이유 찾기)"
   ]
  },
  {
   "cell_type": "code",
   "execution_count": 19,
   "id": "e6ae7fb8-be8b-4ba7-8ace-b1f03b280b6c",
   "metadata": {},
   "outputs": [
    {
     "data": {
      "text/html": [
       "<div>\n",
       "<style scoped>\n",
       "    .dataframe tbody tr th:only-of-type {\n",
       "        vertical-align: middle;\n",
       "    }\n",
       "\n",
       "    .dataframe tbody tr th {\n",
       "        vertical-align: top;\n",
       "    }\n",
       "\n",
       "    .dataframe thead th {\n",
       "        text-align: right;\n",
       "    }\n",
       "</style>\n",
       "<table border=\"1\" class=\"dataframe\">\n",
       "  <thead>\n",
       "    <tr style=\"text-align: right;\">\n",
       "      <th></th>\n",
       "      <th>날짜</th>\n",
       "      <th>거래단위</th>\n",
       "      <th>거래단위별 총거래물량</th>\n",
       "      <th>도매지역</th>\n",
       "      <th>품종</th>\n",
       "      <th>산지</th>\n",
       "      <th>총거래물량</th>\n",
       "    </tr>\n",
       "  </thead>\n",
       "  <tbody>\n",
       "    <tr>\n",
       "      <th>0</th>\n",
       "      <td>2024-11-18</td>\n",
       "      <td>10.0</td>\n",
       "      <td>487570.0</td>\n",
       "      <td>서울</td>\n",
       "      <td>김장(가을)배추</td>\n",
       "      <td>전남</td>\n",
       "      <td>4875700.00</td>\n",
       "    </tr>\n",
       "    <tr>\n",
       "      <th>1</th>\n",
       "      <td>2024-11-18</td>\n",
       "      <td>10.0</td>\n",
       "      <td>319760.0</td>\n",
       "      <td>서울</td>\n",
       "      <td>김장(가을)배추</td>\n",
       "      <td>강원</td>\n",
       "      <td>3197600.00</td>\n",
       "    </tr>\n",
       "    <tr>\n",
       "      <th>2</th>\n",
       "      <td>2024-11-18</td>\n",
       "      <td>12.0</td>\n",
       "      <td>74328.0</td>\n",
       "      <td>서울</td>\n",
       "      <td>기타배추</td>\n",
       "      <td>전남</td>\n",
       "      <td>891936.00</td>\n",
       "    </tr>\n",
       "    <tr>\n",
       "      <th>3</th>\n",
       "      <td>2024-11-18</td>\n",
       "      <td>10.0</td>\n",
       "      <td>68900.0</td>\n",
       "      <td>서울</td>\n",
       "      <td>김장(가을)배추</td>\n",
       "      <td>전북</td>\n",
       "      <td>689000.00</td>\n",
       "    </tr>\n",
       "    <tr>\n",
       "      <th>4</th>\n",
       "      <td>2024-11-18</td>\n",
       "      <td>10.0</td>\n",
       "      <td>68210.0</td>\n",
       "      <td>서울</td>\n",
       "      <td>김장(가을)배추</td>\n",
       "      <td>경북</td>\n",
       "      <td>682100.00</td>\n",
       "    </tr>\n",
       "    <tr>\n",
       "      <th>...</th>\n",
       "      <td>...</td>\n",
       "      <td>...</td>\n",
       "      <td>...</td>\n",
       "      <td>...</td>\n",
       "      <td>...</td>\n",
       "      <td>...</td>\n",
       "      <td>...</td>\n",
       "    </tr>\n",
       "    <tr>\n",
       "      <th>534678</th>\n",
       "      <td>2020-01-02</td>\n",
       "      <td>2.0</td>\n",
       "      <td>2.0</td>\n",
       "      <td>정읍</td>\n",
       "      <td>기타배추</td>\n",
       "      <td>광주</td>\n",
       "      <td>4.00</td>\n",
       "    </tr>\n",
       "    <tr>\n",
       "      <th>534679</th>\n",
       "      <td>2020-01-02</td>\n",
       "      <td>0.3</td>\n",
       "      <td>1.5</td>\n",
       "      <td>춘천</td>\n",
       "      <td>기타배추</td>\n",
       "      <td>서울</td>\n",
       "      <td>0.45</td>\n",
       "    </tr>\n",
       "    <tr>\n",
       "      <th>534680</th>\n",
       "      <td>2020-01-02</td>\n",
       "      <td>0.2</td>\n",
       "      <td>1.0</td>\n",
       "      <td>춘천</td>\n",
       "      <td>기타배추</td>\n",
       "      <td>서울</td>\n",
       "      <td>0.20</td>\n",
       "    </tr>\n",
       "    <tr>\n",
       "      <th>534681</th>\n",
       "      <td>2020-01-02</td>\n",
       "      <td>0.1</td>\n",
       "      <td>1.0</td>\n",
       "      <td>춘천</td>\n",
       "      <td>기타배추</td>\n",
       "      <td>서울</td>\n",
       "      <td>0.10</td>\n",
       "    </tr>\n",
       "    <tr>\n",
       "      <th>534682</th>\n",
       "      <td>2020-01-02</td>\n",
       "      <td>0.5</td>\n",
       "      <td>0.5</td>\n",
       "      <td>춘천</td>\n",
       "      <td>기타배추</td>\n",
       "      <td>서울</td>\n",
       "      <td>0.25</td>\n",
       "    </tr>\n",
       "  </tbody>\n",
       "</table>\n",
       "<p>534683 rows × 7 columns</p>\n",
       "</div>"
      ],
      "text/plain": [
       "                날짜  거래단위  거래단위별 총거래물량 도매지역        품종  산지       총거래물량\n",
       "0       2024-11-18  10.0     487570.0   서울  김장(가을)배추  전남  4875700.00\n",
       "1       2024-11-18  10.0     319760.0   서울  김장(가을)배추  강원  3197600.00\n",
       "2       2024-11-18  12.0      74328.0   서울      기타배추  전남   891936.00\n",
       "3       2024-11-18  10.0      68900.0   서울  김장(가을)배추  전북   689000.00\n",
       "4       2024-11-18  10.0      68210.0   서울  김장(가을)배추  경북   682100.00\n",
       "...            ...   ...          ...  ...       ...  ..         ...\n",
       "534678  2020-01-02   2.0          2.0   정읍      기타배추  광주        4.00\n",
       "534679  2020-01-02   0.3          1.5   춘천      기타배추  서울        0.45\n",
       "534680  2020-01-02   0.2          1.0   춘천      기타배추  서울        0.20\n",
       "534681  2020-01-02   0.1          1.0   춘천      기타배추  서울        0.10\n",
       "534682  2020-01-02   0.5          0.5   춘천      기타배추  서울        0.25\n",
       "\n",
       "[534683 rows x 7 columns]"
      ]
     },
     "execution_count": 19,
     "metadata": {},
     "output_type": "execute_result"
    }
   ],
   "source": [
    "import pandas as pd\n",
    "import numpy as np\n",
    "import matplotlib.pyplot as plt\n",
    "import seaborn as sns\n",
    "data = pd.read_csv('C:/Users/anhj2/Desktop/capstone/배추공급량/배추공급량전처리(총거래물량구하기까지).csv')\n",
    "data"
   ]
  },
  {
   "cell_type": "code",
   "execution_count": 20,
   "id": "a3f6a41a-6b4f-402a-a305-7c4204af896d",
   "metadata": {},
   "outputs": [
    {
     "data": {
      "text/html": [
       "<div>\n",
       "<style scoped>\n",
       "    .dataframe tbody tr th:only-of-type {\n",
       "        vertical-align: middle;\n",
       "    }\n",
       "\n",
       "    .dataframe tbody tr th {\n",
       "        vertical-align: top;\n",
       "    }\n",
       "\n",
       "    .dataframe thead th {\n",
       "        text-align: right;\n",
       "    }\n",
       "</style>\n",
       "<table border=\"1\" class=\"dataframe\">\n",
       "  <thead>\n",
       "    <tr style=\"text-align: right;\">\n",
       "      <th></th>\n",
       "      <th>날짜</th>\n",
       "      <th>거래단위</th>\n",
       "      <th>거래단위별 총거래물량</th>\n",
       "      <th>도매지역</th>\n",
       "      <th>품종</th>\n",
       "      <th>산지</th>\n",
       "      <th>총거래물량</th>\n",
       "    </tr>\n",
       "  </thead>\n",
       "  <tbody>\n",
       "    <tr>\n",
       "      <th>14654</th>\n",
       "      <td>2024-10-18</td>\n",
       "      <td>4.0</td>\n",
       "      <td>-60.0</td>\n",
       "      <td>서울</td>\n",
       "      <td>쌈배추</td>\n",
       "      <td>강원</td>\n",
       "      <td>-240.0</td>\n",
       "    </tr>\n",
       "    <tr>\n",
       "      <th>14655</th>\n",
       "      <td>2024-10-18</td>\n",
       "      <td>4.0</td>\n",
       "      <td>-120.0</td>\n",
       "      <td>서울</td>\n",
       "      <td>쌈배추</td>\n",
       "      <td>강원</td>\n",
       "      <td>-480.0</td>\n",
       "    </tr>\n",
       "    <tr>\n",
       "      <th>20174</th>\n",
       "      <td>2024-10-03</td>\n",
       "      <td>8.0</td>\n",
       "      <td>-8.0</td>\n",
       "      <td>서울</td>\n",
       "      <td>쌈배추</td>\n",
       "      <td>서울</td>\n",
       "      <td>-64.0</td>\n",
       "    </tr>\n",
       "    <tr>\n",
       "      <th>28790</th>\n",
       "      <td>2024-09-05</td>\n",
       "      <td>20.0</td>\n",
       "      <td>-11940.0</td>\n",
       "      <td>서울</td>\n",
       "      <td>고냉지배추</td>\n",
       "      <td>강원</td>\n",
       "      <td>-238800.0</td>\n",
       "    </tr>\n",
       "    <tr>\n",
       "      <th>37838</th>\n",
       "      <td>2024-08-05</td>\n",
       "      <td>10.0</td>\n",
       "      <td>-800.0</td>\n",
       "      <td>서울</td>\n",
       "      <td>배추(수입)</td>\n",
       "      <td>인천</td>\n",
       "      <td>-8000.0</td>\n",
       "    </tr>\n",
       "    <tr>\n",
       "      <th>...</th>\n",
       "      <td>...</td>\n",
       "      <td>...</td>\n",
       "      <td>...</td>\n",
       "      <td>...</td>\n",
       "      <td>...</td>\n",
       "      <td>...</td>\n",
       "      <td>...</td>\n",
       "    </tr>\n",
       "    <tr>\n",
       "      <th>521978</th>\n",
       "      <td>2020-02-15</td>\n",
       "      <td>12.0</td>\n",
       "      <td>-96.0</td>\n",
       "      <td>서울</td>\n",
       "      <td>기타배추</td>\n",
       "      <td>전남</td>\n",
       "      <td>-1152.0</td>\n",
       "    </tr>\n",
       "    <tr>\n",
       "      <th>531161</th>\n",
       "      <td>2020-01-14</td>\n",
       "      <td>10.0</td>\n",
       "      <td>-1000.0</td>\n",
       "      <td>서울</td>\n",
       "      <td>월동배추</td>\n",
       "      <td>강원</td>\n",
       "      <td>-10000.0</td>\n",
       "    </tr>\n",
       "    <tr>\n",
       "      <th>533059</th>\n",
       "      <td>2020-01-08</td>\n",
       "      <td>10.0</td>\n",
       "      <td>-800.0</td>\n",
       "      <td>서울</td>\n",
       "      <td>월동배추</td>\n",
       "      <td>경북</td>\n",
       "      <td>-8000.0</td>\n",
       "    </tr>\n",
       "    <tr>\n",
       "      <th>534211</th>\n",
       "      <td>2020-01-04</td>\n",
       "      <td>10.0</td>\n",
       "      <td>-500.0</td>\n",
       "      <td>서울</td>\n",
       "      <td>월동배추</td>\n",
       "      <td>서울</td>\n",
       "      <td>-5000.0</td>\n",
       "    </tr>\n",
       "    <tr>\n",
       "      <th>534212</th>\n",
       "      <td>2020-01-04</td>\n",
       "      <td>10.0</td>\n",
       "      <td>-500.0</td>\n",
       "      <td>서울</td>\n",
       "      <td>월동배추</td>\n",
       "      <td>강원</td>\n",
       "      <td>-5000.0</td>\n",
       "    </tr>\n",
       "  </tbody>\n",
       "</table>\n",
       "<p>99 rows × 7 columns</p>\n",
       "</div>"
      ],
      "text/plain": [
       "                날짜  거래단위  거래단위별 총거래물량 도매지역      품종  산지     총거래물량\n",
       "14654   2024-10-18   4.0        -60.0   서울     쌈배추  강원    -240.0\n",
       "14655   2024-10-18   4.0       -120.0   서울     쌈배추  강원    -480.0\n",
       "20174   2024-10-03   8.0         -8.0   서울     쌈배추  서울     -64.0\n",
       "28790   2024-09-05  20.0     -11940.0   서울   고냉지배추  강원 -238800.0\n",
       "37838   2024-08-05  10.0       -800.0   서울  배추(수입)  인천   -8000.0\n",
       "...            ...   ...          ...  ...     ...  ..       ...\n",
       "521978  2020-02-15  12.0        -96.0   서울    기타배추  전남   -1152.0\n",
       "531161  2020-01-14  10.0      -1000.0   서울    월동배추  강원  -10000.0\n",
       "533059  2020-01-08  10.0       -800.0   서울    월동배추  경북   -8000.0\n",
       "534211  2020-01-04  10.0       -500.0   서울    월동배추  서울   -5000.0\n",
       "534212  2020-01-04  10.0       -500.0   서울    월동배추  강원   -5000.0\n",
       "\n",
       "[99 rows x 7 columns]"
      ]
     },
     "execution_count": 20,
     "metadata": {},
     "output_type": "execute_result"
    }
   ],
   "source": [
    "# 서울\n",
    "negative_values = data[(data[\"도매지역\"] == \"서울\") & (data[\"거래단위별 총거래물량\"] < 0)]\n",
    "negative_values"
   ]
  },
  {
   "cell_type": "code",
   "execution_count": 21,
   "id": "9f6fcf56-b35e-4e2f-9cc7-bb658e3bbab5",
   "metadata": {},
   "outputs": [
    {
     "data": {
      "text/html": [
       "<div>\n",
       "<style scoped>\n",
       "    .dataframe tbody tr th:only-of-type {\n",
       "        vertical-align: middle;\n",
       "    }\n",
       "\n",
       "    .dataframe tbody tr th {\n",
       "        vertical-align: top;\n",
       "    }\n",
       "\n",
       "    .dataframe thead th {\n",
       "        text-align: right;\n",
       "    }\n",
       "</style>\n",
       "<table border=\"1\" class=\"dataframe\">\n",
       "  <thead>\n",
       "    <tr style=\"text-align: right;\">\n",
       "      <th></th>\n",
       "      <th>날짜</th>\n",
       "      <th>거래단위</th>\n",
       "      <th>거래단위별 총거래물량</th>\n",
       "      <th>도매지역</th>\n",
       "      <th>품종</th>\n",
       "      <th>산지</th>\n",
       "      <th>총거래물량</th>\n",
       "    </tr>\n",
       "  </thead>\n",
       "  <tbody>\n",
       "    <tr>\n",
       "      <th>478463</th>\n",
       "      <td>2020-07-29</td>\n",
       "      <td>0.7</td>\n",
       "      <td>-2.1</td>\n",
       "      <td>부산</td>\n",
       "      <td>여름배추</td>\n",
       "      <td>부산</td>\n",
       "      <td>-1.47</td>\n",
       "    </tr>\n",
       "  </tbody>\n",
       "</table>\n",
       "</div>"
      ],
      "text/plain": [
       "                날짜  거래단위  거래단위별 총거래물량 도매지역    품종  산지  총거래물량\n",
       "478463  2020-07-29   0.7         -2.1   부산  여름배추  부산  -1.47"
      ]
     },
     "execution_count": 21,
     "metadata": {},
     "output_type": "execute_result"
    }
   ],
   "source": [
    "# 부산\n",
    "negative_values = data[(data[\"도매지역\"] == \"부산\") & (data[\"거래단위별 총거래물량\"] < 0)]\n",
    "negative_values"
   ]
  },
  {
   "cell_type": "code",
   "execution_count": 22,
   "id": "79ce976e-47b3-48dd-9b23-9bdfb5d4dc66",
   "metadata": {},
   "outputs": [
    {
     "data": {
      "text/html": [
       "<div>\n",
       "<style scoped>\n",
       "    .dataframe tbody tr th:only-of-type {\n",
       "        vertical-align: middle;\n",
       "    }\n",
       "\n",
       "    .dataframe tbody tr th {\n",
       "        vertical-align: top;\n",
       "    }\n",
       "\n",
       "    .dataframe thead th {\n",
       "        text-align: right;\n",
       "    }\n",
       "</style>\n",
       "<table border=\"1\" class=\"dataframe\">\n",
       "  <thead>\n",
       "    <tr style=\"text-align: right;\">\n",
       "      <th></th>\n",
       "      <th>날짜</th>\n",
       "      <th>거래단위</th>\n",
       "      <th>거래단위별 총거래물량</th>\n",
       "      <th>도매지역</th>\n",
       "      <th>품종</th>\n",
       "      <th>산지</th>\n",
       "      <th>총거래물량</th>\n",
       "    </tr>\n",
       "  </thead>\n",
       "  <tbody>\n",
       "    <tr>\n",
       "      <th>258390</th>\n",
       "      <td>2022-08-22</td>\n",
       "      <td>8.0</td>\n",
       "      <td>-56.0</td>\n",
       "      <td>대구</td>\n",
       "      <td>쌈배추</td>\n",
       "      <td>강원</td>\n",
       "      <td>-448.0</td>\n",
       "    </tr>\n",
       "    <tr>\n",
       "      <th>265886</th>\n",
       "      <td>2022-07-26</td>\n",
       "      <td>8.0</td>\n",
       "      <td>-480.0</td>\n",
       "      <td>대구</td>\n",
       "      <td>쌈배추</td>\n",
       "      <td>강원</td>\n",
       "      <td>-3840.0</td>\n",
       "    </tr>\n",
       "    <tr>\n",
       "      <th>431388</th>\n",
       "      <td>2020-11-30</td>\n",
       "      <td>20.0</td>\n",
       "      <td>-11080.0</td>\n",
       "      <td>대구</td>\n",
       "      <td>절임배추</td>\n",
       "      <td>경북</td>\n",
       "      <td>-221600.0</td>\n",
       "    </tr>\n",
       "  </tbody>\n",
       "</table>\n",
       "</div>"
      ],
      "text/plain": [
       "                날짜  거래단위  거래단위별 총거래물량 도매지역    품종  산지     총거래물량\n",
       "258390  2022-08-22   8.0        -56.0   대구   쌈배추  강원    -448.0\n",
       "265886  2022-07-26   8.0       -480.0   대구   쌈배추  강원   -3840.0\n",
       "431388  2020-11-30  20.0     -11080.0   대구  절임배추  경북 -221600.0"
      ]
     },
     "execution_count": 22,
     "metadata": {},
     "output_type": "execute_result"
    }
   ],
   "source": [
    "# 대구\n",
    "negative_values = data[(data[\"도매지역\"] == \"대구\") & (data[\"거래단위별 총거래물량\"] < 0)]\n",
    "negative_values"
   ]
  },
  {
   "cell_type": "code",
   "execution_count": 23,
   "id": "b20876a1-0c2b-4ba9-922a-d831833a163d",
   "metadata": {},
   "outputs": [
    {
     "data": {
      "text/html": [
       "<div>\n",
       "<style scoped>\n",
       "    .dataframe tbody tr th:only-of-type {\n",
       "        vertical-align: middle;\n",
       "    }\n",
       "\n",
       "    .dataframe tbody tr th {\n",
       "        vertical-align: top;\n",
       "    }\n",
       "\n",
       "    .dataframe thead th {\n",
       "        text-align: right;\n",
       "    }\n",
       "</style>\n",
       "<table border=\"1\" class=\"dataframe\">\n",
       "  <thead>\n",
       "    <tr style=\"text-align: right;\">\n",
       "      <th></th>\n",
       "      <th>날짜</th>\n",
       "      <th>거래단위</th>\n",
       "      <th>거래단위별 총거래물량</th>\n",
       "      <th>도매지역</th>\n",
       "      <th>품종</th>\n",
       "      <th>산지</th>\n",
       "      <th>총거래물량</th>\n",
       "    </tr>\n",
       "  </thead>\n",
       "  <tbody>\n",
       "    <tr>\n",
       "      <th>87450</th>\n",
       "      <td>2024-01-24</td>\n",
       "      <td>10.0</td>\n",
       "      <td>-10020.0</td>\n",
       "      <td>대전</td>\n",
       "      <td>월동배추</td>\n",
       "      <td>전북</td>\n",
       "      <td>-100200.0</td>\n",
       "    </tr>\n",
       "    <tr>\n",
       "      <th>332734</th>\n",
       "      <td>2021-11-15</td>\n",
       "      <td>20.0</td>\n",
       "      <td>-120.0</td>\n",
       "      <td>대전</td>\n",
       "      <td>절임배추</td>\n",
       "      <td>충북</td>\n",
       "      <td>-2400.0</td>\n",
       "    </tr>\n",
       "  </tbody>\n",
       "</table>\n",
       "</div>"
      ],
      "text/plain": [
       "                날짜  거래단위  거래단위별 총거래물량 도매지역    품종  산지     총거래물량\n",
       "87450   2024-01-24  10.0     -10020.0   대전  월동배추  전북 -100200.0\n",
       "332734  2021-11-15  20.0       -120.0   대전  절임배추  충북   -2400.0"
      ]
     },
     "execution_count": 23,
     "metadata": {},
     "output_type": "execute_result"
    }
   ],
   "source": [
    "# 대전\n",
    "negative_values = data[(data[\"도매지역\"] == \"대전\") & (data[\"거래단위별 총거래물량\"] < 0)]\n",
    "negative_values"
   ]
  },
  {
   "cell_type": "code",
   "execution_count": 24,
   "id": "cf39f71a-ccba-46a7-abd8-b29bdde5834e",
   "metadata": {},
   "outputs": [
    {
     "data": {
      "text/html": [
       "<div>\n",
       "<style scoped>\n",
       "    .dataframe tbody tr th:only-of-type {\n",
       "        vertical-align: middle;\n",
       "    }\n",
       "\n",
       "    .dataframe tbody tr th {\n",
       "        vertical-align: top;\n",
       "    }\n",
       "\n",
       "    .dataframe thead th {\n",
       "        text-align: right;\n",
       "    }\n",
       "</style>\n",
       "<table border=\"1\" class=\"dataframe\">\n",
       "  <thead>\n",
       "    <tr style=\"text-align: right;\">\n",
       "      <th></th>\n",
       "      <th>날짜</th>\n",
       "      <th>거래단위</th>\n",
       "      <th>거래단위별 총거래물량</th>\n",
       "      <th>도매지역</th>\n",
       "      <th>품종</th>\n",
       "      <th>산지</th>\n",
       "      <th>총거래물량</th>\n",
       "    </tr>\n",
       "  </thead>\n",
       "  <tbody>\n",
       "  </tbody>\n",
       "</table>\n",
       "</div>"
      ],
      "text/plain": [
       "Empty DataFrame\n",
       "Columns: [날짜, 거래단위, 거래단위별 총거래물량, 도매지역, 품종, 산지, 총거래물량]\n",
       "Index: []"
      ]
     },
     "execution_count": 24,
     "metadata": {},
     "output_type": "execute_result"
    }
   ],
   "source": [
    "# 광주\n",
    "negative_values = data[(data[\"도매지역\"] == \"광주\") & (data[\"거래단위별 총거래물량\"] < 0)]\n",
    "negative_values"
   ]
  },
  {
   "cell_type": "markdown",
   "id": "66624ac6-3d2c-4ec2-8829-b0ba829e3d00",
   "metadata": {},
   "source": [
    "#### 이상값 해결\n",
    "총거래물량을 거래단위*거래단위별 총거래물량으로 구했는데 일부 지역에 거래단위별 총거래물량에 음수값이 있었음.\n",
    "따라서 공급량 예측을 위해 청거래물량과 기상을 합친 파일에서 총거래물량의 음수값을 절대값처리해서 이상값을 해결함."
   ]
  }
 ],
 "metadata": {
  "kernelspec": {
   "display_name": "demand_forecast",
   "language": "python",
   "name": "python3"
  },
  "language_info": {
   "codemirror_mode": {
    "name": "ipython",
    "version": 3
   },
   "file_extension": ".py",
   "mimetype": "text/x-python",
   "name": "python",
   "nbconvert_exporter": "python",
   "pygments_lexer": "ipython3",
   "version": "3.8.19"
  }
 },
 "nbformat": 4,
 "nbformat_minor": 5
}
